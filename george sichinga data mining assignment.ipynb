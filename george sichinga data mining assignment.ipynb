{
 "cells": [
  {
   "cell_type": "markdown",
   "id": "6623fccb",
   "metadata": {},
   "source": [
    "                    Data Mining Using A Priori Algorithm for Movie rentals"
   ]
  },
  {
   "cell_type": "code",
   "execution_count": 1,
   "id": "bf68cb9a",
   "metadata": {},
   "outputs": [
    {
     "name": "stdout",
     "output_type": "stream",
     "text": [
      "  CustomerID                                           Sequence\n",
      "0      C0001  [The Matrix],[Thor Iron Man],[Thor Ant-Man],[T...\n",
      "1      C0002              [Inception Captain America],[Ant-Man]\n",
      "2      C0003  [Guardians of the Galaxy],[Guardians of the Ga...\n",
      "3      C0004  [Inception Iron Man],[Ant-Man The Dark Knight]...\n",
      "4      C0005  [Shang-Chi Doctor Strange Thor The Matrix],[An...\n"
     ]
    }
   ],
   "source": [
    "import pandas as pd\n",
    "\n",
    "# filepath: import_csv.py\n",
    "\n",
    "# Import the CSV file into a DataFrame\n",
    "file_path = r\"C:\\Users\\George\\Downloads\\large_customer_movie_rentals - large_customer_movie_rentals.csv\"\n",
    "df = pd.read_csv(file_path)\n",
    "\n",
    "# Display the first few rows to verify import\n",
    "print(df.head())"
   ]
  },
  {
   "cell_type": "markdown",
   "id": "ba57f8c4",
   "metadata": {},
   "source": [
    "                    1. Check Basic Info and Shape"
   ]
  },
  {
   "cell_type": "code",
   "execution_count": 2,
   "id": "d38b1797",
   "metadata": {},
   "outputs": [
    {
     "name": "stdout",
     "output_type": "stream",
     "text": [
      "Shape of the DataFrame: (500, 2)\n",
      "\n",
      "Column Names: ['CustomerID', 'Sequence']\n",
      "\n",
      "Data Types:\n",
      " CustomerID    object\n",
      "Sequence      object\n",
      "dtype: object\n"
     ]
    }
   ],
   "source": [
    "print(\"Shape of the DataFrame:\", df.shape)\n",
    "print(\"\\nColumn Names:\", df.columns.tolist())\n",
    "print(\"\\nData Types:\\n\", df.dtypes)"
   ]
  },
  {
   "cell_type": "markdown",
   "id": "a768f696",
   "metadata": {},
   "source": [
    "                      2. Preview the Data"
   ]
  },
  {
   "cell_type": "code",
   "execution_count": 3,
   "id": "f865716a",
   "metadata": {},
   "outputs": [
    {
     "name": "stdout",
     "output_type": "stream",
     "text": [
      "\n",
      "First 5 Rows:\n",
      "   CustomerID                                           Sequence\n",
      "0      C0001  [The Matrix],[Thor Iron Man],[Thor Ant-Man],[T...\n",
      "1      C0002              [Inception Captain America],[Ant-Man]\n",
      "2      C0003  [Guardians of the Galaxy],[Guardians of the Ga...\n",
      "3      C0004  [Inception Iron Man],[Ant-Man The Dark Knight]...\n",
      "4      C0005  [Shang-Chi Doctor Strange Thor The Matrix],[An...\n",
      "\n",
      "Last 5 Rows:\n",
      "     CustomerID                                           Sequence\n",
      "495      C0496  [Inception The Matrix The Dark Knight],[Black ...\n",
      "496      C0497  [Doctor Strange Black Panther],[Guardians of t...\n",
      "497      C0498  [The Dark Knight Hulk Ant-Man Iron Man],[Thor ...\n",
      "498      C0499  [Inception Captain America Spider-Man Guardian...\n",
      "499      C0500  [Hulk The Matrix Black Panther Thor],[Guardian...\n"
     ]
    }
   ],
   "source": [
    "print(\"\\nFirst 5 Rows:\\n\", df.head())\n",
    "print(\"\\nLast 5 Rows:\\n\", df.tail())"
   ]
  },
  {
   "cell_type": "markdown",
   "id": "688b75d2",
   "metadata": {},
   "source": [
    "              3. Check for Missing Values"
   ]
  },
  {
   "cell_type": "code",
   "execution_count": 4,
   "id": "42149150",
   "metadata": {},
   "outputs": [
    {
     "name": "stdout",
     "output_type": "stream",
     "text": [
      "\n",
      "Missing Values:\n",
      " CustomerID    0\n",
      "Sequence      0\n",
      "dtype: int64\n"
     ]
    }
   ],
   "source": [
    "print(\"\\nMissing Values:\\n\", df.isnull().sum())"
   ]
  },
  {
   "cell_type": "markdown",
   "id": "d09de6d8",
   "metadata": {},
   "source": [
    "                  Exploring Movie Rental Data: Manual Analysis Before Apriori\n",
    "\n",
    "--Before applying the Apriori algorithm to our movie rental dataset, it’s important to manually explore the data. This helps us form hypotheses about which movies and movie combinations are most popular, and what patterns we might expect the algorithm to find. By running some simple Python code, we can gain valuable insights and set better parameters for our analysis.\n",
    "\n",
    "    Exploring the Data Manually helps us to:\n",
    "\n",
    "        1. Understand the data structure: See how movies are grouped and rented.\n",
    "        2. Spot popular items: Identify which movies and pairs are most frequently rented.\n",
    "        3. Set expectations: Form hypotheses about frequent itemsets and rules before running Apriori.\n",
    "        4. Parameter tuning: Use findings to choose appropriate support and confidence thresholds for the algorithm.\n"
   ]
  },
  {
   "cell_type": "markdown",
   "id": "3d79beea",
   "metadata": {},
   "source": [
    "Task 1. Counting the Most Frequently Picked Movies\n",
    "\n",
    "\n",
    "                counts how many times each individual movie appears in all customer baskets"
   ]
  },
  {
   "cell_type": "code",
   "execution_count": 7,
   "id": "7695fb95",
   "metadata": {},
   "outputs": [
    {
     "name": "stdout",
     "output_type": "stream",
     "text": [
      "Top 10 Most Picked Movies:\n",
      "The Matrix: 43\n",
      "Shang-Chi: 39\n",
      "Avengers: 38\n",
      "Interstellar: 37\n",
      "The Dark Knight: 36\n",
      "Inception: 34\n",
      "Hulk: 34\n",
      "Spider-Man: 34\n",
      "Black Panther: 31\n",
      "Guardians of the Galaxy: 28\n"
     ]
    }
   ],
   "source": [
    "import re\n",
    "\n",
    "# Print the first 10 baskets for inspection\n",
    "for seq in df['Sequence'].head(10):\n",
    "    baskets = re.findall(r'\\[([^\\]]+)\\]', seq)\n",
    "    print(baskets)"
   ]
  },
  {
   "cell_type": "markdown",
   "id": "3a7f572a",
   "metadata": {},
   "source": [
    "`The Matrix` is the most popular, followed closely by titles like `Shang-Chi`, `Avengers`, and `Interstellar`"
   ]
  },
  {
   "cell_type": "markdown",
   "id": "e0b5d5dc",
   "metadata": {},
   "source": [
    "Task 2: Count Movie Pairs manually before a priori algorithm"
   ]
  },
  {
   "cell_type": "code",
   "execution_count": 11,
   "id": "98ac0737",
   "metadata": {},
   "outputs": [
    {
     "name": "stdout",
     "output_type": "stream",
     "text": [
      "['The Matrix', 'Thor Iron Man', 'Thor Ant-Man', 'The Dark Knight']\n",
      "['Inception Captain America', 'Ant-Man']\n",
      "['Guardians of the Galaxy', 'Guardians of the Galaxy The Dark Knight', 'Guardians of the Galaxy Black Panther', 'Guardians of the Galaxy', 'Avengers Hulk', 'Black Panther Interstellar Ant-Man']\n",
      "['Inception Iron Man', 'Ant-Man The Dark Knight', 'The Dark Knight']\n",
      "['Shang-Chi Doctor Strange Thor The Matrix', 'Ant-Man Spider-Man', 'The Matrix', 'The Dark Knight Interstellar', 'Avengers', 'Ant-Man']\n",
      "['Avengers Ant-Man Interstellar The Matrix', 'The Matrix Hulk Captain America Shang-Chi', 'Avengers Hulk Spider-Man The Matrix', 'The Dark Knight']\n",
      "['Guardians of the Galaxy Doctor Strange Ant-Man', 'Inception The Dark Knight', 'Interstellar', 'Iron Man Interstellar']\n",
      "['Thor Avengers Ant-Man The Matrix', 'Spider-Man Inception', 'The Dark Knight', 'Thor Captain America The Matrix Shang-Chi', 'Iron Man Avengers Guardians of the Galaxy Black Panther']\n",
      "['Thor Ant-Man Inception', 'Captain America Ant-Man', 'Iron Man Interstellar', 'The Dark Knight Iron Man Guardians of the Galaxy Hulk']\n",
      "['Interstellar', 'Avengers Ant-Man', 'Inception', 'Spider-Man Avengers The Matrix The Dark Knight']\n"
     ]
    }
   ],
   "source": [
    "#Basket Structure:\n",
    "import re\n",
    "\n",
    "# Print the first 10 baskets for inspection\n",
    "for seq in df['Sequence'].head(10):\n",
    "    baskets = re.findall(r'\\[([^\\]]+)\\]', seq)\n",
    "    print(baskets)"
   ]
  },
  {
   "cell_type": "code",
   "execution_count": 13,
   "id": "83f25360",
   "metadata": {},
   "outputs": [],
   "source": [
    "movie_titles = [\n",
    "    \"The Matrix\", \"Thor\", \"Iron Man\", \"Ant-Man\", \"The Dark Knight\",\n",
    "    \"Inception\", \"Captain America\", \"Guardians of the Galaxy\",\n",
    "    \"Black Panther\", \"Interstellar\", \"Shang-Chi\", \"Doctor Strange\",\n",
    "    \"Avengers\", \"Hulk\", \"Spider-Man\"\n",
    "]"
   ]
  },
  {
   "cell_type": "code",
   "execution_count": 14,
   "id": "31d7bba0",
   "metadata": {},
   "outputs": [
    {
     "name": "stdout",
     "output_type": "stream",
     "text": [
      "Top 10 Most Common Movie Pairs:\n",
      "Doctor Strange & Hulk: 64\n",
      "Interstellar & The Matrix: 62\n",
      "Captain America & The Dark Knight: 62\n",
      "Guardians of the Galaxy & Iron Man: 60\n",
      "The Dark Knight & The Matrix: 60\n",
      "Inception & Iron Man: 59\n",
      "Guardians of the Galaxy & Inception: 59\n",
      "Guardians of the Galaxy & Spider-Man: 59\n",
      "Ant-Man & Black Panther: 58\n",
      "Ant-Man & Hulk: 58\n"
     ]
    }
   ],
   "source": [
    "import re\n",
    "from collections import Counter\n",
    "from itertools import combinations\n",
    "\n",
    "pair_counts = Counter()\n",
    "\n",
    "for seq in df['Sequence']:\n",
    "    baskets = re.findall(r'\\[([^\\]]+)\\]', seq)\n",
    "    for basket in baskets:\n",
    "        movies_in_basket = []\n",
    "        basket_copy = basket\n",
    "        # Match longest titles first to avoid partial matches\n",
    "        for title in sorted(movie_titles, key=len, reverse=True):\n",
    "            if title in basket_copy:\n",
    "                movies_in_basket.append(title)\n",
    "                basket_copy = basket_copy.replace(title, \"\")\n",
    "        # Count pairs if more than one movie in the basket\n",
    "        if len(movies_in_basket) > 1:\n",
    "            for pair in combinations(sorted(set(movies_in_basket)), 2):\n",
    "                pair_counts[pair] += 1\n",
    "\n",
    "print(\"Top 10 Most Common Movie Pairs:\")\n",
    "for pair, count in pair_counts.most_common(10):\n",
    "    print(f\"{pair[0]} & {pair[1]}: {count}\")"
   ]
  },
  {
   "cell_type": "markdown",
   "id": "d1368d5b",
   "metadata": {},
   "source": [
    "`Guardians of the Galaxy` and `The Matrix` frequently appear in these combinations, indicating customer preferences for these movies together."
   ]
  },
  {
   "cell_type": "markdown",
   "id": "963b5033",
   "metadata": {},
   "source": [
    "``Apriori Algorithm Implementation on Movie Rental Data``"
   ]
  },
  {
   "cell_type": "markdown",
   "id": "520a812b",
   "metadata": {},
   "source": [
    "Libraries"
   ]
  },
  {
   "cell_type": "code",
   "execution_count": 15,
   "id": "946a1e07",
   "metadata": {},
   "outputs": [],
   "source": [
    "import re\n",
    "import pandas as pd\n",
    "from itertools import combinations, chain"
   ]
  },
  {
   "cell_type": "code",
   "execution_count": null,
   "id": "9f89a122",
   "metadata": {},
   "outputs": [],
   "source": [
    "#  1. Data Preparation: Extract Transactions from Dataset \n",
    "\n",
    "# List of all possible movie titles (update as needed)\n",
    "movie_titles = [\n",
    "    \"The Matrix\", \"Thor\", \"Iron Man\", \"Ant-Man\", \"The Dark Knight\",\n",
    "    \"Inception\", \"Captain America\", \"Guardians of the Galaxy\",\n",
    "    \"Black Panther\", \"Interstellar\", \"Shang-Chi\", \"Doctor Strange\",\n",
    "    \"Avengers\", \"Hulk\", \"Spider-Man\"\n",
    "]\n"
   ]
  },
  {
   "cell_type": "code",
   "execution_count": 22,
   "id": "8a600573",
   "metadata": {},
   "outputs": [],
   "source": [
    "# Load your dataset\n",
    "file_path = r\"C:\\Users\\George\\Downloads\\large_customer_movie_rentals - large_customer_movie_rentals.csv\"\n",
    "df = pd.read_csv(file_path)\n",
    "\n",
    "# Extract transactions: each transaction is a list of movie titles\n",
    "transactions = []\n",
    "for seq in df['Sequence']:\n",
    "    baskets = re.findall(r'\\[([^\\]]+)\\]', seq)\n",
    "    for basket in baskets:\n",
    "        movies_in_basket = []\n",
    "        basket_copy = basket\n",
    "        for title in sorted(movie_titles, key=len, reverse=True):\n",
    "            if title in basket_copy:\n",
    "                movies_in_basket.append(title)\n",
    "                basket_copy = basket_copy.replace(title, \"\")\n",
    "        if movies_in_basket:\n",
    "            transactions.append(set(movies_in_basket))"
   ]
  },
  {
   "cell_type": "code",
   "execution_count": null,
   "id": "b2be83bc",
   "metadata": {},
   "outputs": [
    {
     "name": "stdout",
     "output_type": "stream",
     "text": [
      "Top 5 Frequent Itemsets with Support (any size):\n",
      "{'The Matrix'}: 0.185\n",
      "{'Guardians of the Galaxy'}: 0.181\n",
      "{'The Dark Knight'}: 0.176\n",
      "{'Ant-Man'}: 0.175\n",
      "{'Hulk'}: 0.173\n",
      "\n",
      "Top 5 Largest Frequent Itemsets with Support:\n",
      "{'Doctor Strange', 'Hulk'}: 0.032\n",
      "{'The Matrix', 'Interstellar'}: 0.031\n",
      "{'The Dark Knight', 'Captain America'}: 0.031\n",
      "{'Iron Man', 'Guardians of the Galaxy'}: 0.030\n",
      "{'The Dark Knight', 'The Matrix'}: 0.030\n"
     ]
    }
   ],
   "source": [
    "#  2. Improved Apriori: Find Frequent Itemsets and Their Supports \n",
    "\n",
    "def get_frequent_itemsets(transactions, min_support=0.02):\n",
    "    \"\"\"\n",
    "    Finds all frequent itemsets in the transactions with support >= min_support.\n",
    "    Also enables discovery of larger itemsets (pairs, triplets, etc.).\n",
    "    \"\"\"\n",
    "    itemset_size = 1\n",
    "    total_transactions = len(transactions)\n",
    "    frequent_itemsets = dict()\n",
    "    # Start with all unique items as candidates\n",
    "    candidates = set(chain.from_iterable(transactions))\n",
    "    prev_frequent = set()\n",
    "    while candidates:\n",
    "        itemset_counts = {}\n",
    "        for transaction in transactions:\n",
    "            for itemset in combinations(candidates, itemset_size):\n",
    "                if set(itemset).issubset(transaction):\n",
    "                    itemset_counts[itemset] = itemset_counts.get(itemset, 0) + 1\n",
    "        # Calculate support and filter by min_support\n",
    "        curr_frequent = {\n",
    "            itemset: count / total_transactions\n",
    "            for itemset, count in itemset_counts.items()\n",
    "            if count / total_transactions >= min_support\n",
    "        }\n",
    "        if not curr_frequent:\n",
    "            break\n",
    "        frequent_itemsets.update(curr_frequent)\n",
    "        # Prepare candidates for next round (grow itemsets)\n",
    "        prev_frequent = set(chain.from_iterable([set(itemset) for itemset in curr_frequent]))\n",
    "        candidates = prev_frequent\n",
    "        itemset_size += 1\n",
    "    return frequent_itemsets\n",
    "\n",
    "# Find frequent itemsets\n",
    "frequent_itemsets = get_frequent_itemsets(transactions, min_support=0.02)\n",
    "\n",
    "# Show top 5 frequent itemsets (any size)\n",
    "top5 = sorted(frequent_itemsets.items(), key=lambda x: x[1], reverse=True)[:5]\n",
    "print(\"Top 5 Frequent Itemsets with Support (any size):\")\n",
    "for itemset, support in top5:\n",
    "    print(f\"{set(itemset)}: {support:.3f}\")\n",
    "\n",
    "# Show top 5 largest frequent itemsets (pairs/triplets)\n",
    "top5_largest = sorted(\n",
    "    frequent_itemsets.items(),\n",
    "    key=lambda x: (len(x[0]), x[1]),\n",
    "    reverse=True\n",
    ")[:5]\n",
    "print(\"\\nTop 5 Largest Frequent Itemsets with Support:\")\n",
    "for itemset, support in top5_largest:\n",
    "    print(f\"{set(itemset)}: {support:.3f}\")"
   ]
  },
  {
   "cell_type": "markdown",
   "id": "e55f2913",
   "metadata": {},
   "source": [
    "## Comparison of Apriori Algorithm and Manual Counts\n",
    "\n",
    "| Aspect                            | Apriori Algorithm Results                                                                                                                                                       | Manual Count Results                                               |\n",
    "| --------------------------------- | ------------------------------------------------------------------------------------------------------------------------------------------------------------------------------- | ------------------------------------------------------------------ |\n",
    "| Most Frequent Item                | The Matrix (Support: 0.185)                                                                                                                                                     | The Matrix (Picked 43 times)                                       |\n",
    "| Second Most Frequent              | Guardians of the Galaxy (0.181)                                                                                                                                                 | Shang-Chi (39 picks)                                               |\n",
    "| Other Frequent Items              | The Dark Knight, Ant-Man, Hulk                                                                                                                                                  | Avengers, Interstellar, Inception, Hulk, Spider-Man, Black Panther |\n",
    "| Items in Both Lists               | The Matrix, Guardians of the Galaxy, The Dark Knight, Hulk                                                                                                                      | The Matrix, Guardians of the Galaxy, The Dark Knight, Hulk         |\n",
    "| Items Missing in Apriori Top 5    | Shang-Chi, Avengers, Interstellar, Inception, Spider-Man                                                                                                                        | N/A                                                                |\n",
    "| Unique to Apriori Top 5           | Ant-Man                                                                                                                                                                         | N/A                                                                |\n",
    "| Largest Frequent Itemsets (Pairs) | Doctor Strange & Hulk (0.032), The Matrix & Interstellar (0.031), The Dark Knight & Captain America (0.031), Iron Man & Guardians (0.030), The Dark Knight & The Matrix (0.030) | Not available from manual counts                                   |\n",
    "\n",
    "## Comments\n",
    "\n",
    "The `Matrix` is the most frequent movie in both methods.\n",
    "\n",
    "* Apriori reveals co-occurrence patterns, showing which movies tend to be picked together.\n",
    "* Manual counts show overall popularity but lack relationship insights.\n",
    "\n",
    "`Shang-Chi`, `Avengers`, and `Interstellar` are popular individually but not frequently paired with others.\n",
    "\n",
    "* Apriori results include itemsets not present in the manual list, like `Ant-Man` and `Doctor Strange`, due to frequent pairings.\n"
   ]
  },
  {
   "cell_type": "code",
   "execution_count": null,
   "id": "bfcd226c",
   "metadata": {},
   "outputs": [
    {
     "name": "stdout",
     "output_type": "stream",
     "text": [
      "\n",
      "Top 10 Strong Association Rules (Support, Confidence, Lift):\n",
      "{'Inception'} => {'Iron Man'} | support: 0.030, confidence: 0.178, lift: 1.032\n",
      "{'Iron Man'} => {'Inception'} | support: 0.030, confidence: 0.172, lift: 1.032\n",
      "{'Thor'} => {'Doctor Strange'} | support: 0.025, confidence: 0.164, lift: 1.013\n",
      "{'Doctor Strange'} => {'Thor'} | support: 0.025, confidence: 0.152, lift: 1.013\n",
      "{'The Matrix'} => {'Interstellar'} | support: 0.031, confidence: 0.168, lift: 1.045\n",
      "{'Interstellar'} => {'The Matrix'} | support: 0.031, confidence: 0.193, lift: 1.045\n",
      "{'Captain America'} => {'Shang-Chi'} | support: 0.028, confidence: 0.169, lift: 1.021\n",
      "{'Shang-Chi'} => {'Captain America'} | support: 0.028, confidence: 0.170, lift: 1.021\n",
      "{'Spider-Man'} => {'Avengers'} | support: 0.028, confidence: 0.170, lift: 1.053\n",
      "{'Avengers'} => {'Spider-Man'} | support: 0.028, confidence: 0.171, lift: 1.053\n"
     ]
    }
   ],
   "source": [
    "#  3.  Association Rules: Support, Confidence, and Lift \n",
    "\n",
    "def generate_association_rules(frequent_itemsets, min_confidence=0.1):\n",
    "    \"\"\"\n",
    "    Generate association rules from frequent itemsets.\n",
    "    Only rules with confidence >= min_confidence are returned.\n",
    "    \"\"\"\n",
    "    rules = []\n",
    "    for itemset in frequent_itemsets:\n",
    "        if len(itemset) < 2:\n",
    "            continue  # Only consider itemsets of size 2 or more\n",
    "        itemset_support = frequent_itemsets[itemset]\n",
    "        # Generate all possible non-empty antecedent/consequent splits\n",
    "        for i in range(1, len(itemset)):\n",
    "            for antecedent in combinations(itemset, i):\n",
    "                antecedent = tuple(sorted(antecedent))\n",
    "                consequent = tuple(sorted(set(itemset) - set(antecedent)))\n",
    "                if not consequent:\n",
    "                    continue\n",
    "                antecedent_support = frequent_itemsets.get(antecedent, 0)\n",
    "                consequent_support = frequent_itemsets.get(consequent, 0)\n",
    "                if antecedent_support == 0 or consequent_support == 0:\n",
    "                    continue\n",
    "                confidence = itemset_support / antecedent_support\n",
    "                lift = confidence / consequent_support\n",
    "                if confidence >= min_confidence:\n",
    "                    rules.append({\n",
    "                        'antecedent': set(antecedent),\n",
    "                        'consequent': set(consequent),\n",
    "                        'support': itemset_support,\n",
    "                        'confidence': confidence,\n",
    "                        'lift': lift\n",
    "                    })\n",
    "    return rules\n",
    "\n",
    "# Generate rules with a minimum confidence threshold\n",
    "rules = generate_association_rules(frequent_itemsets, min_confidence=0.1)\n",
    "\n",
    "# Filter and display only strong rules (lift > 1)\n",
    "strong_rules = [rule for rule in rules if rule['lift'] > 1]\n",
    "\n",
    "print(\"\\nTop 10 Strong Association Rules (Support, Confidence, Lift):\")\n",
    "for rule in strong_rules[:10]:\n",
    "    print(f\"{rule['antecedent']} => {rule['consequent']} | support: {rule['support']:.3f}, confidence: {rule['confidence']:.3f}, lift: {rule['lift']:.3f}\")"
   ]
  },
  {
   "cell_type": "markdown",
   "id": "7360559a",
   "metadata": {},
   "source": [
    "## Comparison of Association Rules: Apriori Algorithm vs Manual Counts\n",
    "\n",
    "| Aspect                    | Apriori Algorithm (Top 10 Rules)                                                   | Manual Count (Top 10 Pairs)                                                     |\n",
    "| ------------------------- | ---------------------------------------------------------------------------------- | ------------------------------------------------------------------------------- |\n",
    "| Strongest Rule by Support | `Interstellar` => `The Matrix` (0.031)                                             | `Doctor Strange` & `Hulk` (64 co-occurrences)                                   |\n",
    "| High Confidence Rule      | `Interstellar` => `The Matrix` (0.193)                                             | `Interstellar` & `The Matrix` (62)                                              |\n",
    "| Symmetric Associations    | `Inception` <=> `Iron Man`, `Thor` <=> `Doctor Strange`                            | `Inception` & `Iron Man` (59), `Ant-Man` & `Hulk` (58)                          |\n",
    "| Popular Character Pairs   | `Captain America` => `Shang-Chi`, `Avengers` <=> `Spider-Man`                      | `Captain America` & `The Dark Knight`, `Spider-Man` & `Guardians of the Galaxy` |\n",
    "| Overlapping Pairs         | `Interstellar` & `The Matrix`, `Iron Man` & `Inception`, `Spider-Man` & `Avengers` | Also appear in manual counts                                                    |\n",
    "| Unique to Apriori Rules   | `Thor` <=> `Doctor Strange`, `Captain America` => `Shang-Chi`                      | Not counted manually                                                            |\n",
    "| Unique to Manual Pairs    | `Guardians` & `Inception`, `Ant-Man` & `Black Panther`, `Guardians` & `Spider-Man` | Not present in top 10 Apriori rules                                             |\n",
    "\n",
    "## Comments\n",
    "\n",
    "The association rule `Interstellar` => `The Matrix` stands out in both methods with strong support and confidence.\n",
    "\n",
    "* Apriori rules reveal directional patterns, such as `Inception` leading to `Iron Man`, with calculated metrics like confidence and lift.\n",
    "* Manual pair counts show raw co-occurrence but do not indicate direction or strength of influence.\n",
    "\n",
    "Pairs like `Doctor Strange` & `Hulk` and `Guardians` & `Spider-Man` are common in manual counts but don’t appear in the top Apriori rules.\n",
    "\n",
    "* Apriori surfaces unique associations like `Thor` <=> `Doctor Strange`, which might be less obvious from raw frequency.\n",
    "* Manual counts are better for identifying raw frequency, while Apriori provides insights into probabilistic relationships between movie choices.\n"
   ]
  }
 ],
 "metadata": {
  "kernelspec": {
   "display_name": "Python 3",
   "language": "python",
   "name": "python3"
  },
  "language_info": {
   "codemirror_mode": {
    "name": "ipython",
    "version": 3
   },
   "file_extension": ".py",
   "mimetype": "text/x-python",
   "name": "python",
   "nbconvert_exporter": "python",
   "pygments_lexer": "ipython3",
   "version": "3.13.0"
  }
 },
 "nbformat": 4,
 "nbformat_minor": 5
}
